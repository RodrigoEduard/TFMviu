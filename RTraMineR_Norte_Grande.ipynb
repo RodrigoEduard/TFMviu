{
  "nbformat": 4,
  "nbformat_minor": 0,
  "metadata": {
    "colab": {
      "provenance": [],
      "authorship_tag": "ABX9TyMY8iPPN3YboP4hL5Tc53A6",
      "include_colab_link": true
    },
    "kernelspec": {
      "name": "ir",
      "display_name": "R"
    },
    "language_info": {
      "name": "R"
    }
  },
  "cells": [
    {
      "cell_type": "markdown",
      "metadata": {
        "id": "view-in-github",
        "colab_type": "text"
      },
      "source": [
        "<a href=\"https://colab.research.google.com/github/RodrigoEduard/TFMviu/blob/main/RTraMineR_Norte_Grande.ipynb\" target=\"_parent\"><img src=\"https://colab.research.google.com/assets/colab-badge.svg\" alt=\"Open In Colab\"/></a>"
      ]
    },
    {
      "cell_type": "code",
      "execution_count": 1,
      "metadata": {
        "id": "eSSQ7e5Lo92s"
      },
      "outputs": [],
      "source": [
        "library(readxl)\n",
        "conduccion_v1 <- read_excel(\"conduccion_220723_sinVacios.xlsx\")"
      ]
    },
    {
      "cell_type": "code",
      "source": [
        "conduccion_v1$`MES INGRESO` <- as.numeric(conduccion_v1$`MES INGRESO`)\n",
        "# Crear una nueva columna 'FECHA' combinando 'AÑO INGRESO' y 'MES INGRESO' en el formato \"YYYY-MM\"\n",
        "conduccion_v1$FECHA <- paste('a', substr(conduccion_v1$`AÑO INGRESO`, 3, 4), '.', sprintf(\"%02d\", conduccion_v1$`MES INGRESO`), sep = \"\")"
      ],
      "metadata": {
        "id": "_qUtVzpoqgMy"
      },
      "execution_count": 2,
      "outputs": []
    },
    {
      "cell_type": "code",
      "source": [
        "#ZONA: NORTE GRANDE ----\n",
        "regiones <- c('DE ARICA Y PARINACOTA', 'DE TARAPACA', 'DE ANTOFAGASTA')\n",
        "dat <- subset(conduccion_v1, `NOMBRE REGION` %in% regiones)\n",
        "dat = table(dat$`NOMBRE COMUNA`,dat$`FECHA`)\n",
        "pde_f = 100*(dat/rowSums(dat))\n",
        "pde_f = as.data.frame(pde_f)\n",
        "max = max(pde_f[,3],na.rm=T)\n",
        "max = round(max,digits = 0)\n",
        "mediana = median(pde_f[,3],na.rm=T)  #calcula la mediana de la tercera columna del dataframe pde_f, ignorando cualquier valor NA, y luego asigna ese valor a la variable mediana.\n",
        "pde_f$clase = 0\n",
        "pde_f$clase[pde_f$Freq == mediana] <- 'IGUAL'\n",
        "pde_f$clase[pde_f$Freq > mediana] <- 'SOBRE'\n",
        "pde_f$clase[pde_f$Freq < mediana] <- 'BAJO'\n",
        "pde_f$clase[pde_f$Freq == 0] <- 'SIN_REG'"
      ],
      "metadata": {
        "id": "fd79SZHMqiZC"
      },
      "execution_count": 3,
      "outputs": []
    },
    {
      "cell_type": "code",
      "source": [
        "# Plot\n",
        "library(ggplot2)\n",
        "library(magrittr)\n",
        "pde_f %>%\n",
        "  ggplot( aes(x=Var2, y=Freq, group=Var1)) +\n",
        "  geom_line()+facet_wrap(vars(Var1), ncol = 3,scales = \"free\")+theme(legend.position = \"none\") + ylim(0, max+5) +\n",
        "  ggtitle(\"TODAS LAS COMUNAS\") + theme(plot.title = element_text(size = 8))"
      ],
      "metadata": {
        "id": "-ptgZYMTq2e8"
      },
      "execution_count": null,
      "outputs": []
    },
    {
      "cell_type": "code",
      "source": [
        "library(tidyverse)\n",
        "TRAN <- pde_f %>%\n",
        "  rename(id = Var1) %>%\n",
        "  group_by(id, Var2) %>%\n",
        "  summarise(clase = first(clase), .groups = \"drop\") %>%\n",
        "  pivot_wider(names_from = Var2, values_from = clase)\n",
        "\n",
        "TRAN <- as.data.frame(TRAN)"
      ],
      "metadata": {
        "id": "oCGOuIhXq96T"
      },
      "execution_count": null,
      "outputs": []
    }
  ]
}